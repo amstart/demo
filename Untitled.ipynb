{
 "cells": [
  {
   "cell_type": "code",
   "execution_count": 13,
   "metadata": {
    "collapsed": false
   },
   "outputs": [],
   "source": [
    "from selenium import webdriver\n",
    "from selenium.webdriver.firefox.firefox_binary import FirefoxBinary\n",
    "\n",
    "from django.conf import settings\n",
    "from django.contrib.auth import BACKEND_SESSION_KEY, SESSION_KEY, get_user_model\n",
    "from django.contrib.sessions.backends.db import SessionStore\n",
    "from django.contrib.staticfiles.testing import StaticLiveServerTestCase\n",
    "\n",
    "from demoslogic.users.models import User\n",
    "class Dump:\n",
    "    pass\n",
    "self = Dump()\n",
    "self.user = User.objects.get(username = 'fredd')\n",
    "self.user.delete()\n",
    "user = User.objects.get_or_create(username = 'fredd', email = 'al@fons.com', password = 'tdsadaop-secretary5456')\n",
    "session = SessionStore()\n",
    "session[SESSION_KEY] = self.user.pk\n",
    "session[BACKEND_SESSION_KEY] = settings.AUTHENTICATION_BACKENDS[0]\n",
    "session.save()\n"
   ]
  },
  {
   "cell_type": "code",
   "execution_count": null,
   "metadata": {
    "collapsed": true
   },
   "outputs": [],
   "source": [
    "\n",
    "\n",
    "## to set a cookie we need to first visit the domain.\n",
    "## 404 pages load the quickest!\n",
    "self.browser.get(self.live_server_url + \"/404_no_such_url/\")\n",
    "self.browser.add_cookie(dict(\n",
    "    name=settings.SESSION_COOKIE_NAME,\n",
    "    value=session.session_key,\n",
    "    path='/',\n",
    "))\n",
    "self.browser.get(self.live_server_url + \"/selenium/\")"
   ]
  },
  {
   "cell_type": "code",
   "execution_count": 5,
   "metadata": {
    "collapsed": false
   },
   "outputs": [],
   "source": [
    "import datetime\n",
    "\n",
    "from django.utils import timezone\n",
    "from django.test import TestCase\n",
    "from django.core.urlresolvers import resolve\n",
    "from django.core.urlresolvers import reverse\n",
    "from django.http import HttpRequest\n",
    "from django.test import RequestFactory\n",
    "\n",
    "from demoslogic.premises.models import Premise\n",
    "from demoslogic.users.models import User\n",
    "class TemplateTest(TestCase):\n",
    "\n",
    "    def setUp(self):\n",
    "        self.user = User.objects.create_user(username = 'Alfons', email = 'al@fons.com', password = 'top-secretary')\n",
    "        self.new_premise = Premise.objects.create(user= self.user)\n",
    "        time = timezone.now() - datetime.timedelta(days = 30)\n",
    "        self.old_premise  =  Premise.objects.create(user = self.user, pub_date = time)\n",
    "        self.otheruser = User.objects.create_user(username = 'Fred', email = 'f@red.com', password = 'top-secretary')"
   ]
  },
  {
   "cell_type": "code",
   "execution_count": null,
   "metadata": {
    "collapsed": true
   },
   "outputs": [],
   "source": []
  },
  {
   "cell_type": "code",
   "execution_count": null,
   "metadata": {
    "collapsed": true
   },
   "outputs": [],
   "source": []
  }
 ],
 "metadata": {
  "anaconda-cloud": {},
  "kernelspec": {
   "display_name": "Django Shell-Plus",
   "language": "python",
   "name": "django_extensions"
  },
  "language_info": {
   "codemirror_mode": {
    "name": "ipython",
    "version": 3
   },
   "file_extension": ".py",
   "mimetype": "text/x-python",
   "name": "python",
   "nbconvert_exporter": "python",
   "pygments_lexer": "ipython3",
   "version": "3.5.2"
  }
 },
 "nbformat": 4,
 "nbformat_minor": 1
}
