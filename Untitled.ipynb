{
 "cells": [
  {
   "cell_type": "code",
   "execution_count": 13,
   "metadata": {
    "collapsed": false
   },
   "outputs": [],
   "source": [
    "from selenium import webdriver\n",
    "from selenium.webdriver.firefox.firefox_binary import FirefoxBinary\n",
    "\n",
    "from django.conf import settings\n",
    "from django.contrib.auth import BACKEND_SESSION_KEY, SESSION_KEY, get_user_model\n",
    "from django.contrib.sessions.backends.db import SessionStore\n",
    "from django.contrib.staticfiles.testing import StaticLiveServerTestCase\n",
    "\n",
    "from demoslogic.users.models import User\n",
    "class Dump:\n",
    "    pass\n",
    "self = Dump()\n",
    "self.user = User.objects.get(username = 'fredd')\n",
    "self.user.delete()\n",
    "user = User.objects.get_or_create(username = 'fredd', email = 'al@fons.com', password = 'tdsadaop-secretary5456')\n",
    "session = SessionStore()\n",
    "session[SESSION_KEY] = self.user.pk\n",
    "session[BACKEND_SESSION_KEY] = settings.AUTHENTICATION_BACKENDS[0]\n",
    "session.save()\n"
   ]
  },
  {
   "cell_type": "code",
   "execution_count": null,
   "metadata": {
    "collapsed": true
   },
   "outputs": [],
   "source": [
    "\n",
    "\n",
    "## to set a cookie we need to first visit the domain.\n",
    "## 404 pages load the quickest!\n",
    "self.browser.get(self.live_server_url + \"/404_no_such_url/\")\n",
    "self.browser.add_cookie(dict(\n",
    "    name=settings.SESSION_COOKIE_NAME,\n",
    "    value=session.session_key,\n",
    "    path='/',\n",
    "))\n",
    "self.browser.get(self.live_server_url + \"/selenium/\")"
   ]
  },
  {
   "cell_type": "code",
   "execution_count": 5,
   "metadata": {
    "collapsed": false
   },
   "outputs": [],
   "source": [
    "import datetime\n",
    "\n",
    "from django.utils import timezone\n",
    "from django.test import TestCase\n",
    "from django.core.urlresolvers import resolve\n",
    "from django.core.urlresolvers import reverse\n",
    "from django.http import HttpRequest\n",
    "from django.test import RequestFactory\n",
    "\n",
    "from demoslogic.premises.models import Premise\n",
    "from demoslogic.users.models import User\n",
    "class TemplateTest(TestCase):\n",
    "\n",
    "    def setUp(self):\n",
    "        self.user = User.objects.create_user(username = 'Alfons', email = 'al@fons.com', password = 'top-secretary')\n",
    "        self.new_premise = Premise.objects.create(user= self.user)\n",
    "        time = timezone.now() - datetime.timedelta(days = 30)\n",
    "        self.old_premise  =  Premise.objects.create(user = self.user, pub_date = time)\n",
    "        self.otheruser = User.objects.create_user(username = 'Fred', email = 'f@red.com', password = 'top-secretary')"
   ]
  },
  {
   "cell_type": "code",
   "execution_count": 2,
   "metadata": {
    "collapsed": false,
    "scrolled": true
   },
   "outputs": [
    {
     "ename": "AssertionError",
     "evalue": "earliest() and latest() require either a field_name parameter or 'get_latest_by' in the model",
     "output_type": "error",
     "traceback": [
      "\u001b[0;31m---------------------------------------------------------------------------\u001b[0m",
      "\u001b[0;31mAssertionError\u001b[0m                            Traceback (most recent call last)",
      "\u001b[0;32m<ipython-input-2-2797fefe6c2c>\u001b[0m in \u001b[0;36m<module>\u001b[0;34m()\u001b[0m\n\u001b[1;32m      1\u001b[0m \u001b[1;32mfrom\u001b[0m \u001b[0mdemoslogic\u001b[0m\u001b[1;33m.\u001b[0m\u001b[0mpremises\u001b[0m\u001b[1;33m.\u001b[0m\u001b[0mmodels\u001b[0m \u001b[1;32mimport\u001b[0m \u001b[0mPremise\u001b[0m\u001b[1;33m\u001b[0m\u001b[0m\n\u001b[1;32m      2\u001b[0m \u001b[1;32mfrom\u001b[0m \u001b[0mdemoslogic\u001b[0m\u001b[1;33m.\u001b[0m\u001b[0marguments\u001b[0m\u001b[1;33m.\u001b[0m\u001b[0mmodels\u001b[0m \u001b[1;32mimport\u001b[0m \u001b[0mArgument\u001b[0m\u001b[1;33m\u001b[0m\u001b[0m\n\u001b[0;32m----> 3\u001b[0;31m \u001b[0margument_count\u001b[0m \u001b[1;33m=\u001b[0m \u001b[0mPremise\u001b[0m\u001b[1;33m.\u001b[0m\u001b[0mobjects\u001b[0m\u001b[1;33m.\u001b[0m\u001b[0mall\u001b[0m\u001b[1;33m(\u001b[0m\u001b[1;33m)\u001b[0m\u001b[1;33m.\u001b[0m\u001b[0mlatest\u001b[0m\u001b[1;33m(\u001b[0m\u001b[1;33m)\u001b[0m\u001b[1;33m\u001b[0m\u001b[0m\n\u001b[0m",
      "\u001b[0;32mC:\\Tools\\Anaconda\\envs\\demoslogic\\lib\\site-packages\\django\\db\\models\\query.py\u001b[0m in \u001b[0;36mlatest\u001b[0;34m(self, field_name)\u001b[0m\n\u001b[1;32m    548\u001b[0m \u001b[1;33m\u001b[0m\u001b[0m\n\u001b[1;32m    549\u001b[0m     \u001b[1;32mdef\u001b[0m \u001b[0mlatest\u001b[0m\u001b[1;33m(\u001b[0m\u001b[0mself\u001b[0m\u001b[1;33m,\u001b[0m \u001b[0mfield_name\u001b[0m\u001b[1;33m=\u001b[0m\u001b[1;32mNone\u001b[0m\u001b[1;33m)\u001b[0m\u001b[1;33m:\u001b[0m\u001b[1;33m\u001b[0m\u001b[0m\n\u001b[0;32m--> 550\u001b[0;31m         \u001b[1;32mreturn\u001b[0m \u001b[0mself\u001b[0m\u001b[1;33m.\u001b[0m\u001b[0m_earliest_or_latest\u001b[0m\u001b[1;33m(\u001b[0m\u001b[0mfield_name\u001b[0m\u001b[1;33m=\u001b[0m\u001b[0mfield_name\u001b[0m\u001b[1;33m,\u001b[0m \u001b[0mdirection\u001b[0m\u001b[1;33m=\u001b[0m\u001b[1;34m\"-\"\u001b[0m\u001b[1;33m)\u001b[0m\u001b[1;33m\u001b[0m\u001b[0m\n\u001b[0m\u001b[1;32m    551\u001b[0m \u001b[1;33m\u001b[0m\u001b[0m\n\u001b[1;32m    552\u001b[0m     \u001b[1;32mdef\u001b[0m \u001b[0mfirst\u001b[0m\u001b[1;33m(\u001b[0m\u001b[0mself\u001b[0m\u001b[1;33m)\u001b[0m\u001b[1;33m:\u001b[0m\u001b[1;33m\u001b[0m\u001b[0m\n",
      "\u001b[0;32mC:\\Tools\\Anaconda\\envs\\demoslogic\\lib\\site-packages\\django\\db\\models\\query.py\u001b[0m in \u001b[0;36m_earliest_or_latest\u001b[0;34m(self, field_name, direction)\u001b[0m\n\u001b[1;32m    534\u001b[0m         \"\"\"\n\u001b[1;32m    535\u001b[0m         \u001b[0morder_by\u001b[0m \u001b[1;33m=\u001b[0m \u001b[0mfield_name\u001b[0m \u001b[1;32mor\u001b[0m \u001b[0mgetattr\u001b[0m\u001b[1;33m(\u001b[0m\u001b[0mself\u001b[0m\u001b[1;33m.\u001b[0m\u001b[0mmodel\u001b[0m\u001b[1;33m.\u001b[0m\u001b[0m_meta\u001b[0m\u001b[1;33m,\u001b[0m \u001b[1;34m'get_latest_by'\u001b[0m\u001b[1;33m)\u001b[0m\u001b[1;33m\u001b[0m\u001b[0m\n\u001b[0;32m--> 536\u001b[0;31m         \u001b[1;32massert\u001b[0m \u001b[0mbool\u001b[0m\u001b[1;33m(\u001b[0m\u001b[0morder_by\u001b[0m\u001b[1;33m)\u001b[0m\u001b[1;33m,\u001b[0m \u001b[1;34m\"earliest() and latest() require either a \"\u001b[0m\u001b[0;31m\\\u001b[0m\u001b[1;33m\u001b[0m\u001b[0m\n\u001b[0m\u001b[1;32m    537\u001b[0m             \u001b[1;34m\"field_name parameter or 'get_latest_by' in the model\"\u001b[0m\u001b[1;33m\u001b[0m\u001b[0m\n\u001b[1;32m    538\u001b[0m         \u001b[1;32massert\u001b[0m \u001b[0mself\u001b[0m\u001b[1;33m.\u001b[0m\u001b[0mquery\u001b[0m\u001b[1;33m.\u001b[0m\u001b[0mcan_filter\u001b[0m\u001b[1;33m(\u001b[0m\u001b[1;33m)\u001b[0m\u001b[1;33m,\u001b[0m\u001b[0;31m \u001b[0m\u001b[0;31m\\\u001b[0m\u001b[1;33m\u001b[0m\u001b[0m\n",
      "\u001b[0;31mAssertionError\u001b[0m: earliest() and latest() require either a field_name parameter or 'get_latest_by' in the model"
     ]
    }
   ],
   "source": [
    "from demoslogic.premises.models import Premise\n",
    "from demoslogic.arguments.models import Argument\n",
    "argument_count = Premise.objects.all().latest()"
   ]
  },
  {
   "cell_type": "code",
   "execution_count": 10,
   "metadata": {
    "collapsed": false
   },
   "outputs": [
    {
     "data": {
      "text/plain": [
       "<django.db.models.fields.related_descriptors.create_reverse_many_to_one_manager.<locals>.RelatedManager at 0x2b7f1e46d30>"
      ]
     },
     "execution_count": 10,
     "metadata": {},
     "output_type": "execute_result"
    }
   ],
   "source": [
    "from demoslogic.premises.models import Premise\n",
    "a = Premise.objects.get(id = 1)\n",
    "a.key_object"
   ]
  },
  {
   "cell_type": "code",
   "execution_count": 36,
   "metadata": {
    "collapsed": false
   },
   "outputs": [
    {
     "name": "stdout",
     "output_type": "stream",
     "text": [
      "{'_prefetch_related_lookups': [], '_known_related_objects': {}, '_sticky_filter': False, '_db': None, '_prefetch_done': False, 'query': <django.db.models.sql.query.Query object at 0x00000138A71BE668>, '_fields': None, '_result_cache': None, '_hints': {}, '_for_write': False, '_iterable_class': <class 'django.db.models.query.ModelIterable'>, 'model': <class 'demoslogic.premises.models.Premise'>}\n"
     ]
    }
   ],
   "source": [
    "from demoslogic.users.models import User\n",
    "from django.db.models import CharField, Value as V\n",
    "from demoslogic.premises.models import Premise, CategorizationVote\n",
    "from demoslogic.premises.forms import CategorizationVoteForm\n",
    "from django.db.models.functions import Concat\n",
    "p = Premise.objects.extra(where=[\"CONCAT(subject, \\' \\', predicate) = \\'Pizza is\\'\"])\n",
    "print(p.__dict__)"
   ]
  },
  {
   "cell_type": "code",
   "execution_count": 38,
   "metadata": {
    "collapsed": false
   },
   "outputs": [
    {
     "name": "stdout",
     "output_type": "stream",
     "text": [
      "class=\"link\"\n"
     ]
    }
   ],
   "source": [
    "page_text.count('<circle') == (argument_count + premise_count)\n",
    "print('class=\"link\"')"
   ]
  },
  {
   "cell_type": "code",
   "execution_count": 4,
   "metadata": {
    "collapsed": false
   },
   "outputs": [
    {
     "data": {
      "text/plain": [
       "<method-wrapper '__iter__' of dict object at 0x000002D8A1F95848>"
      ]
     },
     "execution_count": 4,
     "metadata": {},
     "output_type": "execute_result"
    }
   ],
   "source": [
    "a = {\"a\": 1, \"b\":2 }\n",
    "a.__iter__"
   ]
  },
  {
   "cell_type": "code",
   "execution_count": 24,
   "metadata": {
    "collapsed": false
   },
   "outputs": [
    {
     "data": {
      "text/plain": [
       "[(1, 'a'), (2, 'b')]"
      ]
     },
     "execution_count": 24,
     "metadata": {},
     "output_type": "execute_result"
    }
   ],
   "source": [
    "b = [1, 2]\n",
    "c = ['a', 'b']\n",
    "zipped = zip(b,c)\n",
    "list(zipped)"
   ]
  },
  {
   "cell_type": "code",
   "execution_count": 22,
   "metadata": {
    "collapsed": false
   },
   "outputs": [
    {
     "data": {
      "text/plain": [
       "['Footballs is/are a type of Balls',\n",
       " 'Footballs is/are a type of Balls',\n",
       " 'sdfsd']"
      ]
     },
     "execution_count": 22,
     "metadata": {},
     "output_type": "execute_result"
    }
   ],
   "source": [
    " \t\n",
    "\n",
    "['Footballs is/are a type of Balls', 'Footballs is/are a type of Balls'] + [\"sdfsd\"]"
   ]
  },
  {
   "cell_type": "code",
   "execution_count": null,
   "metadata": {
    "collapsed": true
   },
   "outputs": [],
   "source": []
  }
 ],
 "metadata": {
  "anaconda-cloud": {},
  "kernelspec": {
   "display_name": "Django Shell-Plus",
   "language": "python",
   "name": "django_extensions"
  },
  "language_info": {
   "codemirror_mode": {
    "name": "ipython",
    "version": 3
   },
   "file_extension": ".py",
   "mimetype": "text/x-python",
   "name": "python",
   "nbconvert_exporter": "python",
   "pygments_lexer": "ipython3",
   "version": "3.5.2"
  }
 },
 "nbformat": 4,
 "nbformat_minor": 1
}
