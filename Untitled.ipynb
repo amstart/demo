{
 "cells": [
  {
   "cell_type": "code",
   "execution_count": 13,
   "metadata": {
    "collapsed": false
   },
   "outputs": [],
   "source": [
    "from selenium import webdriver\n",
    "from selenium.webdriver.firefox.firefox_binary import FirefoxBinary\n",
    "\n",
    "from django.conf import settings\n",
    "from django.contrib.auth import BACKEND_SESSION_KEY, SESSION_KEY, get_user_model\n",
    "from django.contrib.sessions.backends.db import SessionStore\n",
    "from django.contrib.staticfiles.testing import StaticLiveServerTestCase\n",
    "\n",
    "from demoslogic.users.models import User\n",
    "class Dump:\n",
    "    pass\n",
    "self = Dump()\n",
    "self.user = User.objects.get(username = 'fredd')\n",
    "self.user.delete()\n",
    "user = User.objects.get_or_create(username = 'fredd', email = 'al@fons.com', password = 'tdsadaop-secretary5456')\n",
    "session = SessionStore()\n",
    "session[SESSION_KEY] = self.user.pk\n",
    "session[BACKEND_SESSION_KEY] = settings.AUTHENTICATION_BACKENDS[0]\n",
    "session.save()\n"
   ]
  },
  {
   "cell_type": "code",
   "execution_count": null,
   "metadata": {
    "collapsed": true
   },
   "outputs": [],
   "source": [
    "\n",
    "\n",
    "## to set a cookie we need to first visit the domain.\n",
    "## 404 pages load the quickest!\n",
    "self.browser.get(self.live_server_url + \"/404_no_such_url/\")\n",
    "self.browser.add_cookie(dict(\n",
    "    name=settings.SESSION_COOKIE_NAME,\n",
    "    value=session.session_key,\n",
    "    path='/',\n",
    "))\n",
    "self.browser.get(self.live_server_url + \"/selenium/\")"
   ]
  },
  {
   "cell_type": "code",
   "execution_count": 5,
   "metadata": {
    "collapsed": false
   },
   "outputs": [],
   "source": [
    "import datetime\n",
    "\n",
    "from django.utils import timezone\n",
    "from django.test import TestCase\n",
    "from django.core.urlresolvers import resolve\n",
    "from django.core.urlresolvers import reverse\n",
    "from django.http import HttpRequest\n",
    "from django.test import RequestFactory\n",
    "\n",
    "from demoslogic.premises.models import Premise\n",
    "from demoslogic.users.models import User\n",
    "class TemplateTest(TestCase):\n",
    "\n",
    "    def setUp(self):\n",
    "        self.user = User.objects.create_user(username = 'Alfons', email = 'al@fons.com', password = 'top-secretary')\n",
    "        self.new_premise = Premise.objects.create(user= self.user)\n",
    "        time = timezone.now() - datetime.timedelta(days = 30)\n",
    "        self.old_premise  =  Premise.objects.create(user = self.user, pub_date = time)\n",
    "        self.otheruser = User.objects.create_user(username = 'Fred', email = 'f@red.com', password = 'top-secretary')"
   ]
  },
  {
   "cell_type": "code",
   "execution_count": 34,
   "metadata": {
    "collapsed": false,
    "scrolled": true
   },
   "outputs": [
    {
     "data": {
      "text/plain": [
       "int"
      ]
     },
     "execution_count": 34,
     "metadata": {},
     "output_type": "execute_result"
    }
   ],
   "source": [
    "from demoslogic.premises.models import Premise\n",
    "from demoslogic.arguments.models import Argument\n",
    "argument_count = Argument.objects.count()\n",
    "premise_count = Premise.objects.count()\n",
    "type(argument_count)"
   ]
  },
  {
   "cell_type": "code",
   "execution_count": 35,
   "metadata": {
    "collapsed": false
   },
   "outputs": [],
   "source": [
    "page_text = '\\\\n\\\\n    <div class=\"m-b-1\">\\\\n      <nav class=\"navbar navbar-dark navbar-static-top bg-inverse\">\\\\n        <div class=\"container\">\\\\n          <a class=\"navbar-brand\" href=\"/\">demoslogic</a>\\\\n          <button type=\"button\" class=\"navbar-toggler hidden-sm-up pull-xs-right\" data-toggle=\"collapse\" data-target=\"#bs-navbar-collapse-1\">\\\\n            \\\\u2630\\\\n          </button>\\\\n\\\\n          <!-- Collect the nav links, forms, and other content for toggling -->\\\\n          <div class=\"collapse navbar-toggleable-xs\" id=\"bs-navbar-collapse-1\">\\\\n            <ul class=\"nav navbar-nav\">\\\\n              <li class=\"nav-item\">\\\\n                <a class=\"nav-link\" href=\"/network/\">Network</a>\\\\n              </li>\\\\n              <li class=\"nav-item dropdown\">\\\\n                  <a href=\"/premises/\" class=\"nav-link\">Premises</a>\\\\n                  <ul class=\"dropdown-menu\">\\\\n                      <li><a class=\"nav-link\" href=\"/premises/unstaged/\">Unstaged</a></li>\\\\n                  </ul>\\\\n              </li>\\\\n              <li class=\"nav-item dropdown\">\\\\n                  <a href=\"/arguments/\" class=\"nav-link\">Arguments</a>\\\\n                  <ul class=\"dropdown-menu\">\\\\n                      <li><a class=\"nav-link\" href=\"/arguments/unstaged/\">Unstaged</a></li>\\\\n                  </ul>\\\\n              </li>\\\\n              <li class=\"nav-item dropdown\">\\\\n                  <a href=\"/users/\" class=\"nav-link\">Users</a>\\\\n                  <ul class=\"dropdown-menu\">\\\\n                      <li><a class=\"nav-link\" href=\"/users/\">Unstaged</a></li>\\\\n                  </ul>\\\\n              </li>\\\\n              <li class=\"nav-item\">\\\\n                <a class=\"nav-link\" href=\"/blogs/\">Blogs</a>\\\\n              </li>\\\\n              <li class=\"nav-item\">\\\\n                <a class=\"nav-link\" href=\"/about/\">About</a>\\\\n              </li>\\\\n            </ul>\\\\n\\\\n            <ul class=\"nav navbar-nav pull-xs-right\">\\\\n              \\\\n                <li class=\"nav-item\">\\\\n                  <a class=\"nav-link\" href=\"/users/Alfons/\">My Profile</a>\\\\n                </li>\\\\n                <li class=\"nav-item\">\\\\n                  <a class=\"nav-link\" href=\"/accounts/logout/\">Sign Out</a>\\\\n                </li>\\\\n              \\\\n            </ul>\\\\n          </div>\\\\n        </div>\\\\n      </nav>\\\\n    </div>\\\\n\\\\n    <div class=\"container\">\\\\n\\\\n      \\\\n\\\\n      \\\\n<svg width=\"960\" height=\"600\"><defs><marker id=\"suit\" viewBox=\"0 -5 10 10\" refX=\"25\" refY=\"0\" markerWidth=\"4\" markerHeight=\"4\" orient=\"auto\"><path d=\"M0,-5L10,0L0,5 L10,0 L0, -5\" style=\"stroke: rgb(70, 121, 189); opacity: 0.6;\"></path></marker></defs><g class=\"forcelinks\"><line stroke-width=\"1.4142135623730951\" class=\"link\" x1=\"480.0245059944696\" y1=\"300.0886665830792\" x2=\"496.1995976784839\" y2=\"321.9043278589513\" style=\"marker-end: url(&quot;#suit&quot;);\"></line><line stroke-width=\"1.4142135623730951\" class=\"link\" x1=\"469.7996926064068\" y1=\"313.9594582234719\" x2=\"496.1995976784839\" y2=\"321.9043278589513\" style=\"marker-end: url(&quot;#suit&quot;);\"></line><line stroke-width=\"1\" class=\"link\" x1=\"496.1995976784839\" y1=\"321.9043278589513\" x2=\"479.3841651838849\" y2=\"281.7429925079791\" style=\"marker-end: url(&quot;#suit&quot;);\"></line><line stroke-width=\"1.4142135623730951\" class=\"link\" x1=\"469.7996926064068\" y1=\"313.9594582234719\" x2=\"448.58870954259726\" y2=\"295.09434424809035\" style=\"marker-end: url(&quot;#suit&quot;);\"></line><line stroke-width=\"1.4142135623730951\" class=\"link\" x1=\"479.3841651838849\" y1=\"281.7429925079791\" x2=\"448.58870954259726\" y2=\"295.09434424809035\" style=\"marker-end: url(&quot;#suit&quot;);\"></line><line stroke-width=\"1\" class=\"link\" x1=\"448.58870954259726\" y1=\"295.09434424809035\" x2=\"480.0245059944696\" y2=\"300.0886665830792\" style=\"marker-end: url(&quot;#suit&quot;);\"></line><line stroke-width=\"1.4142135623730951\" class=\"link\" x1=\"479.3841651838849\" y1=\"281.7429925079791\" x2=\"505.98920426347024\" y2=\"287.3404538583763\" style=\"marker-end: url(&quot;#suit&quot;);\"></line><line stroke-width=\"1.4142135623730951\" class=\"link\" x1=\"480.0245059944696\" y1=\"300.0886665830792\" x2=\"505.98920426347024\" y2=\"287.3404538583763\" style=\"marker-end: url(&quot;#suit&quot;);\"></line><line stroke-width=\"1\" class=\"link\" x1=\"505.98920426347024\" y1=\"287.3404538583763\" x2=\"469.7996926064068\" y2=\"313.9594582234719\" style=\"marker-end: url(&quot;#suit&quot;);\"></line></g><g class=\"nodes\"><circle r=\"5\" fill=\"#1f77b4\" cx=\"480.0245059944696\" cy=\"300.0886665830792\" style=\"-webkit-tap-highlight-color: rgba(0, 0, 0, 0);\"><title>p1</title><url>www.example.com</url></circle><circle r=\"5\" fill=\"#1f77b4\" cx=\"469.7996926064068\" cy=\"313.9594582234719\" style=\"-webkit-tap-highlight-color: rgba(0, 0, 0, 0);\"><title>p2</title><url>www.example.com</url></circle><circle r=\"5\" fill=\"#1f77b4\" cx=\"479.3841651838849\" cy=\"281.7429925079791\" style=\"-webkit-tap-highlight-color: rgba(0, 0, 0, 0);\"><title>p3</title><url>www.example.com</url></circle><circle r=\"5\" fill=\"#aec7e8\" cx=\"496.1995976784839\" cy=\"321.9043278589513\" style=\"-webkit-tap-highlight-color: rgba(0, 0, 0, 0);\"><title>a1</title><url>www.example.com</url></circle><circle r=\"5\" fill=\"#aec7e8\" cx=\"448.58870954259726\" cy=\"295.09434424809035\" style=\"-webkit-tap-highlight-color: rgba(0, 0, 0, 0);\"><title>a2</title><url>www.example.com</url></circle><circle r=\"5\" fill=\"#aec7e8\" cx=\"505.98920426347024\" cy=\"287.3404538583763\" style=\"-webkit-tap-highlight-color: rgba(0, 0, 0, 0);\"><title>a3</title><url>www.example.com</url></circle></g></svg>\\\\n\\\\n\\\\n    </div> <!-- /container -->\\\\n\\\\n    \\\\n\\\\n    <!-- Le javascript\\\\n    ================================================== -->\\\\n    <!-- Placed at the end of the document so the pages load faster -->\\\\n    \\\\n\\\\n      <!-- Required by Bootstrap v4 Alpha 3 -->\\\\n      <script src=\"https://ajax.googleapis.com/ajax/libs/jquery/3.0.0/jquery.min.js\" integrity=\"sha384-THPy051/pYDQGanwU6poAc/hOdQxjnOEXzbT+OuUAFqNqFjL+4IGLBgCJC3ZOShY\" crossorigin=\"anonymous\"></script>\\\\n      <script src=\"https://cdnjs.cloudflare.com/ajax/libs/tether/1.2.0/js/tether.min.js\" integrity=\"sha384-Plbmg8JY28KFelvJVai01l8WyZzrYWG825m+cZ0eDDS1f7d/js6ikvy1+X+guPIB\" crossorigin=\"anonymous\"></script>\\\\n      \\\\n      <script src=\"/static/js/bootstrap.min.js\"></script>\\\\n      <!-- Your stuff: Third-party javascript libraries go here -->\\\\n      \\\\n      <!-- place project specific Javascript in this file -->\\\\n      <script src=\"/static/js/project.js\"></script>\\\\n      <script src=\"/static/autocomplete_light/select2.js\"></script>\\\\n\\\\n    \\\\n\\\\n<script src=\"https://d3js.org/d3.v4.min.js\"></script>\\\\n<script>\\\\n\\\\nvar svg = d3.select(\"svg\"),\\\\n    width = +svg.attr(\"width\"),\\\\n    height = +svg.attr(\"height\");\\\\n\\\\n    svg.append(\"defs\").selectAll(\"marker\")\\\\n        .data([\"suit\"])\\\\n      .enter().append(\"marker\")\\\\n        .attr(\"id\", function(d) { return d; })\\\\n        .attr(\"viewBox\", \"0 -5 10 10\")\\\\n        .attr(\"refX\", 25)\\\\n        .attr(\"refY\", 0)\\\\n        .attr(\"markerWidth\", 4)\\\\n        .attr(\"markerHeight\", 4)\\\\n        .attr(\"orient\", \"auto\")\\\\n      .append(\"path\")\\\\n        .attr(\"d\", \"M0,-5L10,0L0,5 L10,0 L0, -5\")\\\\n        .style(\"stroke\", \"#4679BD\")\\\\n        .style(\"opacity\", \"0.6\");\\\\n\\\\nvar color = d3.scaleOrdinal(d3.schemeCategory20);\\\\n\\\\nvar simulation = d3.forceSimulation()\\\\n    .force(\"link\", d3.forceLink().id(function(d) { return d.id; }))\\\\n    .force(\"charge\", d3.forceManyBody())\\\\n    .force(\"center\", d3.forceCenter(width / 2, height / 2));\\\\n\\\\nd3.json(\"/static/json/network.json\", function(error, graph) {\\\\n  if (error) throw error;\\\\n\\\\n  var link = svg.append(\"g\")\\\\n      .attr(\"class\", \"forcelinks\")\\\\n    .selectAll(\"line\")\\\\n    .data(graph.links)\\\\n    .enter().append(\"line\")\\\\n      .attr(\"stroke-width\", function(d) { return Math.sqrt(d.value); })\\\\n      .attr(\"class\", \"link\")\\\\n      .style(\"marker-end\",  \"url(#suit)\"); // Modified line\\\\n\\\\n  var node = svg.append(\"g\")\\\\n      .attr(\"class\", \"nodes\")\\\\n    .selectAll(\"circle\")\\\\n    .data(graph.nodes)\\\\n    .enter().append(\"circle\")\\\\n      .attr(\"r\", 5)\\\\n      .attr(\"fill\", function(d) { return color(d.group); })\\\\n      .call(d3.drag()\\\\n          .on(\"start\", dragstarted)\\\\n          .on(\"drag\", dragged)\\\\n          .on(\"end\", dragended));\\\\n\\\\n  node.append(\"title\")\\\\n      .text(function(d) { return d.id; }); //changed\\\\n\\\\n  node.append(\"url\")\\\\n      .text(\"www.example.com\")\\\\n\\\\n  simulation\\\\n      .nodes(graph.nodes)\\\\n      .on(\"tick\", ticked);\\\\n\\\\n  simulation.force(\"link\")\\\\n      .links(graph.links);\\\\n\\\\n  function ticked() {\\\\n    link\\\\n        .attr(\"x1\", function(d) { return d.source.x; })\\\\n        .attr(\"y1\", function(d) { return d.source.y; })\\\\n        .attr(\"x2\", function(d) { return d.target.x; })\\\\n        .attr(\"y2\", function(d) { return d.target.y; });\\\\n    node\\\\n        .attr(\"cx\", function(d) { return d.x; })\\\\n        .attr(\"cy\", function(d) { return d.y; });\\\\n  }\\\\n});\\\\n\\\\nfunction dragstarted(d) {\\\\n  if (!d3.event.active) simulation.alphaTarget(0.3).restart();\\\\n  d.fx = d.x;\\\\n  d.fy = d.y;\\\\n}\\\\n\\\\nfunction dragged(d) {\\\\n  d.fx = d3.event.x;\\\\n  d.fy = d3.event.y;\\\\n}\\\\n\\\\nfunction dragended(d) {\\\\n  if (!d3.event.active) simulation.alphaTarget(0);\\\\n  d.fx = null;\\\\n  d.fy = null;\\\\n}\\\\n\\\\n</script>\\\\n\\\\n  \\\\n\\\\n'"
   ]
  },
  {
   "cell_type": "code",
   "execution_count": 36,
   "metadata": {
    "collapsed": false
   },
   "outputs": [
    {
     "name": "stdout",
     "output_type": "stream",
     "text": [
      "{'_prefetch_related_lookups': [], '_known_related_objects': {}, '_sticky_filter': False, '_db': None, '_prefetch_done': False, 'query': <django.db.models.sql.query.Query object at 0x00000138A71BE668>, '_fields': None, '_result_cache': None, '_hints': {}, '_for_write': False, '_iterable_class': <class 'django.db.models.query.ModelIterable'>, 'model': <class 'demoslogic.premises.models.Premise'>}\n"
     ]
    }
   ],
   "source": [
    "from demoslogic.users.models import User\n",
    "from django.db.models import CharField, Value as V\n",
    "from demoslogic.premises.models import Premise, CategorizationVote\n",
    "from demoslogic.premises.forms import CategorizationVoteForm\n",
    "from django.db.models.functions import Concat\n",
    "p = Premise.objects.extra(where=[\"CONCAT(subject, \\' \\', predicate) = \\'Pizza is\\'\"])\n",
    "print(p.__dict__)"
   ]
  },
  {
   "cell_type": "code",
   "execution_count": 38,
   "metadata": {
    "collapsed": false
   },
   "outputs": [
    {
     "name": "stdout",
     "output_type": "stream",
     "text": [
      "class=\"link\"\n"
     ]
    }
   ],
   "source": [
    "page_text.count('<circle') == (argument_count + premise_count)\n",
    "print('class=\"link\"')"
   ]
  },
  {
   "cell_type": "code",
   "execution_count": 83,
   "metadata": {
    "collapsed": false
   },
   "outputs": [],
   "source": [
    "import json\n",
    "import os\n",
    "\n",
    "from config.settings.common import APPS_DIR\n",
    "from demoslogic.arguments import models\n",
    "from demoslogic.premises import models\n",
    "\n",
    "filename = os.path.join(str(APPS_DIR), 'static/json/data.json')\n",
    "with open(filename, 'w') as fp:\n",
    "    json.dump(data, fp)"
   ]
  },
  {
   "cell_type": "code",
   "execution_count": null,
   "metadata": {
    "collapsed": true
   },
   "outputs": [],
   "source": []
  },
  {
   "cell_type": "code",
   "execution_count": null,
   "metadata": {
    "collapsed": true
   },
   "outputs": [],
   "source": []
  }
 ],
 "metadata": {
  "anaconda-cloud": {},
  "kernelspec": {
   "display_name": "Django Shell-Plus",
   "language": "python",
   "name": "django_extensions"
  },
  "language_info": {
   "codemirror_mode": {
    "name": "ipython",
    "version": 3
   },
   "file_extension": ".py",
   "mimetype": "text/x-python",
   "name": "python",
   "nbconvert_exporter": "python",
   "pygments_lexer": "ipython3",
   "version": "3.5.2"
  }
 },
 "nbformat": 4,
 "nbformat_minor": 1
}
