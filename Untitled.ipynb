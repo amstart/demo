{
 "cells": [
  {
   "cell_type": "code",
   "execution_count": 13,
   "metadata": {
    "collapsed": false
   },
   "outputs": [],
   "source": [
    "from selenium import webdriver\n",
    "from selenium.webdriver.firefox.firefox_binary import FirefoxBinary\n",
    "\n",
    "from django.conf import settings\n",
    "from django.contrib.auth import BACKEND_SESSION_KEY, SESSION_KEY, get_user_model\n",
    "from django.contrib.sessions.backends.db import SessionStore\n",
    "from django.contrib.staticfiles.testing import StaticLiveServerTestCase\n",
    "\n",
    "from demoslogic.users.models import User\n",
    "class Dump:\n",
    "    pass\n",
    "self = Dump()\n",
    "self.user = User.objects.get(username = 'fredd')\n",
    "self.user.delete()\n",
    "user = User.objects.get_or_create(username = 'fredd', email = 'al@fons.com', password = 'tdsadaop-secretary5456')\n",
    "session = SessionStore()\n",
    "session[SESSION_KEY] = self.user.pk\n",
    "session[BACKEND_SESSION_KEY] = settings.AUTHENTICATION_BACKENDS[0]\n",
    "session.save()\n"
   ]
  },
  {
   "cell_type": "code",
   "execution_count": null,
   "metadata": {
    "collapsed": true
   },
   "outputs": [],
   "source": [
    "\n",
    "\n",
    "## to set a cookie we need to first visit the domain.\n",
    "## 404 pages load the quickest!\n",
    "self.browser.get(self.live_server_url + \"/404_no_such_url/\")\n",
    "self.browser.add_cookie(dict(\n",
    "    name=settings.SESSION_COOKIE_NAME,\n",
    "    value=session.session_key,\n",
    "    path='/',\n",
    "))\n",
    "self.browser.get(self.live_server_url + \"/selenium/\")"
   ]
  },
  {
   "cell_type": "code",
   "execution_count": 5,
   "metadata": {
    "collapsed": false
   },
   "outputs": [],
   "source": [
    "import datetime\n",
    "\n",
    "from django.utils import timezone\n",
    "from django.test import TestCase\n",
    "from django.core.urlresolvers import resolve\n",
    "from django.core.urlresolvers import reverse\n",
    "from django.http import HttpRequest\n",
    "from django.test import RequestFactory\n",
    "\n",
    "from demoslogic.premises.models import Premise\n",
    "from demoslogic.users.models import User\n",
    "class TemplateTest(TestCase):\n",
    "\n",
    "    def setUp(self):\n",
    "        self.user = User.objects.create_user(username = 'Alfons', email = 'al@fons.com', password = 'top-secretary')\n",
    "        self.new_premise = Premise.objects.create(user= self.user)\n",
    "        time = timezone.now() - datetime.timedelta(days = 30)\n",
    "        self.old_premise  =  Premise.objects.create(user = self.user, pub_date = time)\n",
    "        self.otheruser = User.objects.create_user(username = 'Fred', email = 'f@red.com', password = 'top-secretary')"
   ]
  },
  {
   "cell_type": "code",
   "execution_count": 34,
   "metadata": {
    "collapsed": false,
    "scrolled": true
   },
   "outputs": [
    {
     "data": {
      "text/plain": [
       "int"
      ]
     },
     "execution_count": 34,
     "metadata": {},
     "output_type": "execute_result"
    }
   ],
   "source": [
    "from demoslogic.premises.models import Premise\n",
    "from demoslogic.arguments.models import Argument\n",
    "argument_count = Argument.objects.count()\n",
    "premise_count = Premise.objects.count()\n",
    "type(argument_count)"
   ]
  },
  {
   "cell_type": "code",
   "execution_count": null,
   "metadata": {
    "collapsed": false
   },
   "outputs": [],
   "source": [
    "from demoslogic.premises.models import Verb\n",
    "from demoslogic.users.models import User\n",
    "Verb.objects.create(name = 'is a/are')"
   ]
  },
  {
   "cell_type": "code",
   "execution_count": 36,
   "metadata": {
    "collapsed": false
   },
   "outputs": [
    {
     "name": "stdout",
     "output_type": "stream",
     "text": [
      "{'_prefetch_related_lookups': [], '_known_related_objects': {}, '_sticky_filter': False, '_db': None, '_prefetch_done': False, 'query': <django.db.models.sql.query.Query object at 0x00000138A71BE668>, '_fields': None, '_result_cache': None, '_hints': {}, '_for_write': False, '_iterable_class': <class 'django.db.models.query.ModelIterable'>, 'model': <class 'demoslogic.premises.models.Premise'>}\n"
     ]
    }
   ],
   "source": [
    "from demoslogic.users.models import User\n",
    "from django.db.models import CharField, Value as V\n",
    "from demoslogic.premises.models import Premise, CategorizationVote\n",
    "from demoslogic.premises.forms import CategorizationVoteForm\n",
    "from django.db.models.functions import Concat\n",
    "p = Premise.objects.extra(where=[\"CONCAT(subject, \\' \\', predicate) = \\'Pizza is\\'\"])\n",
    "print(p.__dict__)"
   ]
  },
  {
   "cell_type": "code",
   "execution_count": 38,
   "metadata": {
    "collapsed": false
   },
   "outputs": [
    {
     "name": "stdout",
     "output_type": "stream",
     "text": [
      "class=\"link\"\n"
     ]
    }
   ],
   "source": [
    "page_text.count('<circle') == (argument_count + premise_count)\n",
    "print('class=\"link\"')"
   ]
  },
  {
   "cell_type": "code",
   "execution_count": 83,
   "metadata": {
    "collapsed": false
   },
   "outputs": [],
   "source": [
    "import json\n",
    "import os\n",
    "\n",
    "from config.settings.common import APPS_DIR\n",
    "from demoslogic.arguments import models\n",
    "from demoslogic.premises import models\n",
    "\n",
    "filename = os.path.join(str(APPS_DIR), 'static/json/data.json')\n",
    "with open(filename, 'w') as fp:\n",
    "    json.dump(data, fp)"
   ]
  },
  {
   "cell_type": "code",
   "execution_count": null,
   "metadata": {
    "collapsed": true
   },
   "outputs": [],
   "source": []
  },
  {
   "cell_type": "code",
   "execution_count": null,
   "metadata": {
    "collapsed": true
   },
   "outputs": [],
   "source": []
  }
 ],
 "metadata": {
  "anaconda-cloud": {},
  "kernelspec": {
   "display_name": "Django Shell-Plus",
   "language": "python",
   "name": "django_extensions"
  },
  "language_info": {
   "codemirror_mode": {
    "name": "ipython",
    "version": 3
   },
   "file_extension": ".py",
   "mimetype": "text/x-python",
   "name": "python",
   "nbconvert_exporter": "python",
   "pygments_lexer": "ipython3",
   "version": "3.5.2"
  }
 },
 "nbformat": 4,
 "nbformat_minor": 1
}
