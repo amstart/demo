{
 "cells": [
  {
   "cell_type": "code",
   "execution_count": 11,
   "metadata": {
    "collapsed": false
   },
   "outputs": [
    {
     "ename": "AttributeError",
     "evalue": "'dict' object has no attribute 'olduser'",
     "output_type": "error",
     "traceback": [
      "\u001b[0;31m---------------------------------------------------------------------------\u001b[0m",
      "\u001b[0;31mAttributeError\u001b[0m                            Traceback (most recent call last)",
      "\u001b[0;32m<ipython-input-11-881229282047>\u001b[0m in \u001b[0;36m<module>\u001b[0;34m()\u001b[0m\n\u001b[1;32m      9\u001b[0m \u001b[1;32mfrom\u001b[0m \u001b[0mdemoslogic\u001b[0m\u001b[1;33m.\u001b[0m\u001b[0musers\u001b[0m\u001b[1;33m.\u001b[0m\u001b[0mmodels\u001b[0m \u001b[1;32mimport\u001b[0m \u001b[0mUser\u001b[0m\u001b[1;33m\u001b[0m\u001b[0m\n\u001b[1;32m     10\u001b[0m \u001b[0mself\u001b[0m \u001b[1;33m=\u001b[0m \u001b[0mdict\u001b[0m\u001b[1;33m(\u001b[0m\u001b[1;33m)\u001b[0m\u001b[1;33m\u001b[0m\u001b[0m\n\u001b[0;32m---> 11\u001b[0;31m \u001b[0mself\u001b[0m\u001b[1;33m.\u001b[0m\u001b[0molduser\u001b[0m \u001b[1;33m=\u001b[0m \u001b[0mUser\u001b[0m\u001b[1;33m.\u001b[0m\u001b[0mobjects\u001b[0m\u001b[1;33m.\u001b[0m\u001b[0mget\u001b[0m\u001b[1;33m(\u001b[0m\u001b[0musername\u001b[0m \u001b[1;33m=\u001b[0m \u001b[1;34m'fredd'\u001b[0m\u001b[1;33m)\u001b[0m\u001b[1;33m\u001b[0m\u001b[0m\n\u001b[0m\u001b[1;32m     12\u001b[0m \u001b[0mself\u001b[0m\u001b[1;33m.\u001b[0m\u001b[0molduser\u001b[0m\u001b[1;33m.\u001b[0m\u001b[0mdelete\u001b[0m\u001b[1;33m(\u001b[0m\u001b[1;33m)\u001b[0m\u001b[1;33m\u001b[0m\u001b[0m\n\u001b[1;32m     13\u001b[0m \u001b[0muser\u001b[0m \u001b[1;33m=\u001b[0m \u001b[0mUser\u001b[0m\u001b[1;33m.\u001b[0m\u001b[0mobjects\u001b[0m\u001b[1;33m.\u001b[0m\u001b[0mget_or_create\u001b[0m\u001b[1;33m(\u001b[0m\u001b[0musername\u001b[0m \u001b[1;33m=\u001b[0m \u001b[1;34m'fredd'\u001b[0m\u001b[1;33m,\u001b[0m \u001b[0memail\u001b[0m \u001b[1;33m=\u001b[0m \u001b[1;34m'al@fons.com'\u001b[0m\u001b[1;33m,\u001b[0m \u001b[0mpassword\u001b[0m \u001b[1;33m=\u001b[0m \u001b[1;34m'tdsadaop-secretary5456'\u001b[0m\u001b[1;33m)\u001b[0m\u001b[1;33m\u001b[0m\u001b[0m\n",
      "\u001b[0;31mAttributeError\u001b[0m: 'dict' object has no attribute 'olduser'"
     ]
    }
   ],
   "source": [
    "from selenium import webdriver\n",
    "from selenium.webdriver.firefox.firefox_binary import FirefoxBinary\n",
    "\n",
    "from django.conf import settings\n",
    "from django.contrib.auth import BACKEND_SESSION_KEY, SESSION_KEY, get_user_model\n",
    "from django.contrib.sessions.backends.db import SessionStore\n",
    "from django.contrib.staticfiles.testing import StaticLiveServerTestCase\n",
    "\n",
    "from demoslogic.users.models import User\n",
    "class Dump:\n",
    "    pass\n",
    "self = Dump()\n",
    "self.olduser = User.objects.get(username = 'fredd')\n",
    "self.olduser.delete()\n",
    "user = User.objects.get_or_create(username = 'fredd', email = 'al@fons.com', password = 'tdsadaop-secretary5456')\n",
    "session = SessionStore()\n",
    "session[SESSION_KEY] = self.user.pk\n",
    "session[BACKEND_SESSION_KEY] = settings.AUTHENTICATION_BACKENDS[0]\n",
    "session.save()\n"
   ]
  },
  {
   "cell_type": "code",
   "execution_count": null,
   "metadata": {
    "collapsed": true
   },
   "outputs": [],
   "source": [
    "\n",
    "\n",
    "## to set a cookie we need to first visit the domain.\n",
    "## 404 pages load the quickest!\n",
    "self.browser.get(self.live_server_url + \"/404_no_such_url/\")\n",
    "self.browser.add_cookie(dict(\n",
    "    name=settings.SESSION_COOKIE_NAME,\n",
    "    value=session.session_key,\n",
    "    path='/',\n",
    "))\n",
    "self.browser.get(self.live_server_url + \"/selenium/\")"
   ]
  },
  {
   "cell_type": "code",
   "execution_count": 5,
   "metadata": {
    "collapsed": false
   },
   "outputs": [],
   "source": [
    "import datetime\n",
    "\n",
    "from django.utils import timezone\n",
    "from django.test import TestCase\n",
    "from django.core.urlresolvers import resolve\n",
    "from django.core.urlresolvers import reverse\n",
    "from django.http import HttpRequest\n",
    "from django.test import RequestFactory\n",
    "\n",
    "from demoslogic.premises.models import Premise\n",
    "from demoslogic.users.models import User\n",
    "class TemplateTest(TestCase):\n",
    "\n",
    "    def setUp(self):\n",
    "        self.user = User.objects.create_user(username = 'Alfons', email = 'al@fons.com', password = 'top-secretary')\n",
    "        self.new_premise = Premise.objects.create(user= self.user)\n",
    "        time = timezone.now() - datetime.timedelta(days = 30)\n",
    "        self.old_premise  =  Premise.objects.create(user = self.user, pub_date = time)\n",
    "        self.otheruser = User.objects.create_user(username = 'Fred', email = 'f@red.com', password = 'top-secretary')"
   ]
  },
  {
   "cell_type": "code",
   "execution_count": null,
   "metadata": {
    "collapsed": true
   },
   "outputs": [],
   "source": []
  },
  {
   "cell_type": "code",
   "execution_count": null,
   "metadata": {
    "collapsed": true
   },
   "outputs": [],
   "source": []
  }
 ],
 "metadata": {
  "anaconda-cloud": {},
  "kernelspec": {
   "display_name": "Django Shell-Plus",
   "language": "python",
   "name": "django_extensions"
  },
  "language_info": {
   "codemirror_mode": {
    "name": "ipython",
    "version": 3
   },
   "file_extension": ".py",
   "mimetype": "text/x-python",
   "name": "python",
   "nbconvert_exporter": "python",
   "pygments_lexer": "ipython3",
   "version": "3.5.2"
  }
 },
 "nbformat": 4,
 "nbformat_minor": 1
}
